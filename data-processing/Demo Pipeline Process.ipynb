{
 "cells": [
  {
   "cell_type": "code",
   "execution_count": 111,
   "metadata": {},
   "outputs": [],
   "source": [
    "import matplotlib.pyplot as plt\n",
    "import numpy as np\n",
    "import pandas as pd"
   ]
  },
  {
   "cell_type": "code",
   "execution_count": 112,
   "metadata": {},
   "outputs": [],
   "source": [
    "# given dataset with lat,lon convert to grid position\n",
    "def fit_point_to_grid(point,square_pad):\n",
    "    \"\"\"calculate the grid square that a coordinate would belong to. \n",
    "    \n",
    "    the grid represents positions between 180,-180 and -180,180\n",
    "        Each square being square_pad x square_pad across.\n",
    "\n",
    "    \"\"\"\n",
    "    \n",
    "    # check if the square_pad is not valid (will not divide the grid into equal intervals)\n",
    "    if 360 / square_pad % 1 != 0:\n",
    "        raise ValueError(f\"\"\"{square_pad} is not a valid value for square_pad. \n",
    "                         (360 must be divisible by square_pad to ensure equal grid square sizes)\"\"\"\n",
    "                        )      \n",
    "    \n",
    "    lat,lon = point\n",
    "    lat_idx = int((lat+180) / square_pad)\n",
    "    lon_idx = int((lon+180) / square_pad)\n",
    "    \n",
    "    return lat_idx, lon_idx\n",
    "\n",
    "\n",
    "def fit_all_points_to_grid(df,square_pad, weight=1):\n",
    "    df_grid = {}\n",
    "    if not all(name in df.columns for name in [\"lat\",\"lon\"]):\n",
    "        return None\n",
    "    \n",
    "    for point in df[[\"lat\",\"lon\"]].values:\n",
    "        grid_point = fit_point_to_grid(point, square_pad=square_pad)\n",
    "        \n",
    "        if grid_point in df_grid:\n",
    "            df_grid[grid_point] += weight\n",
    "        else:\n",
    "            df_grid[grid_point] = weight\n",
    "    \n",
    "    return df_grid\n",
    "# TODO make this projected coordinates"
   ]
  },
  {
   "cell_type": "code",
   "execution_count": 113,
   "metadata": {},
   "outputs": [],
   "source": [
    "# generate surrounding weights of each point\n",
    "def add_radius_to_grid_dict(grid_dict, square_pad, radius=5):\n",
    "    \"\"\" add a radius around each point in the grid_dict dict that decreases in weight\n",
    "    as it moves further away from the point. \n",
    "    \n",
    "    currently radius is just the surrounding indexes of a point. other solution using actual\n",
    "    circle radius would require converting to polar coordinates, and rastering the vector \n",
    "    circle back into a grid representaton. \n",
    "    \n",
    "    \"\"\"\n",
    "    \n",
    "    # do nothing if radius is 0 or less\n",
    "    if radius <= 0:\n",
    "        return\n",
    "    \n",
    "    # calculate the boundaries of the grid \n",
    "    # (grid is not an object), so it's shape must be dynamically calculated\n",
    "    x_max, y_max = fit_point_to_grid((180,180), square_pad=square_pad)\n",
    "    x_min, y_min = (0,0)\n",
    "    \n",
    "    # store values in a temporary dict first, to keep the radius values independant\n",
    "    # for each point\n",
    "    temp_dict = {}\n",
    "    \n",
    "    for (x,y), weight in list(grid_dict.items()):\n",
    "        # len(radii_weight_list) should equal len(radius)\n",
    "        ratio = weight/radius\n",
    "        \n",
    "        # used to determine how weighted a grid point is, given its distance from a direct point\n",
    "        radii_weight_list = [weight/i for i in range(1,radius+2)]\n",
    "        \n",
    "        for xi in range(x-radius,x+radius+1):\n",
    "            if xi > x_max:\n",
    "                break\n",
    "            elif xi < x_min:\n",
    "                continue\n",
    "            else:\n",
    "                for yi in range(y-radius,y+radius+1):\n",
    "                    if yi > y_max:\n",
    "                        break\n",
    "                    elif yi < y_min:\n",
    "                        continue\n",
    "                    else:\n",
    "                        # calculate which ring of the radius the point belongs\n",
    "                        ring = max(abs(xi-x),abs(yi-y))\n",
    "                        \n",
    "                        # dont add anything extra to the starting node (0th ring = (x,y))\n",
    "                        if ring == 0:\n",
    "                            continue\n",
    "                            \n",
    "                        if (xi,yi) in temp_dict:\n",
    "                            temp_dict[xi,yi] += radii_weight_list[ring]\n",
    "                        else:\n",
    "                            temp_dict[xi,yi] = radii_weight_list[ring]\n",
    "                            \n",
    "    else:\n",
    "        for idxs, weight in temp_dict.items():\n",
    "            if idxs in grid_dict:\n",
    "                grid_dict[idxs] += weight\n",
    "            else:\n",
    "                grid_dict[idxs] = weight"
   ]
  },
  {
   "cell_type": "code",
   "execution_count": null,
   "metadata": {},
   "outputs": [],
   "source": []
  },
  {
   "cell_type": "code",
   "execution_count": 114,
   "metadata": {},
   "outputs": [],
   "source": [
    "# calculate TL and BR coordinates for the grid\n",
    "# trying out a simple min_lat,min_lon,max_lat,max_lon\n",
    "def grid_idx_to_point(grid_idxs,square_pad):\n",
    "    # separated logic to avoid isses with floats used as keys\n",
    "    lat_idx,lon_idx = grid_idxs\n",
    "    return lat_idx*square_pad-180,lon_idx*square_pad-180\n",
    "\n",
    "def get_image_corners(grid_dict, square_pad):\n",
    "    min_lat_idx  = np.inf\n",
    "    min_lon_idx  = np.inf\n",
    "    max_lat_idx  = -np.inf\n",
    "    max_lon_idx  = -np.inf\n",
    "    for grid_point in grid_dict:\n",
    "        # lat\n",
    "        if grid_point[0] < min_lat_idx :\n",
    "            min_lat_idx  = grid_point[0]\n",
    "        if grid_point[0] > max_lat_idx :\n",
    "            max_lat_idx  = grid_point[0]\n",
    "        # lon\n",
    "        if grid_point[1] < min_lon_idx :\n",
    "            min_lon_idx = grid_point[1]\n",
    "        if grid_point[1] > max_lon_idx :\n",
    "            max_lon_idx  = grid_point[1]\n",
    "        \n",
    "    # convert to coordinates\n",
    "    # tl = max lat, min lon\n",
    "    tl_coords = grid_idx_to_point((max_lat_idx,min_lon_idx),square_pad=square_pad)\n",
    "    # tl = min lat, max lon\n",
    "    br_coords = grid_idx_to_point((min_lat_idx,max_lon_idx),square_pad=square_pad)\n",
    "    return (min_lat_idx,min_lon_idx), (max_lat_idx,max_lon_idx), tl_coords, br_coords\n",
    "\n"
   ]
  },
  {
   "cell_type": "code",
   "execution_count": 119,
   "metadata": {},
   "outputs": [],
   "source": [
    "# from grid dict, convert to a grid matrix with just weights\n",
    "def grid_dict_to_array(grid_dict, square_pad):\n",
    "    tl_grid, br_grid, tl_coords, br_coords = get_image_corners(grid_dict, square_pad=square_pad)\n",
    "    min_lat_idx, min_lon_idx = tl_grid\n",
    "    max_lat_idx, max_lon_idx = br_grid\n",
    "    \n",
    "    grid_matrix = np.empty((max_lat_idx-min_lat_idx+1, max_lon_idx-min_lon_idx+1))\n",
    "    for (lat_idx,lon_idx), weight in grid_dict.items():\n",
    "        grid_matrix[lat_idx-min_lat_idx, lon_idx-min_lon_idx] = weight\n",
    "        \n",
    "    \n",
    "    return (tl_coords, br_coords), grid_matrix\n",
    "\n",
    "\n",
    "\n"
   ]
  },
  {
   "cell_type": "code",
   "execution_count": 134,
   "metadata": {
    "scrolled": false
   },
   "outputs": [],
   "source": [
    "import cv2\n",
    "import folium\n",
    "import os\n",
    "\n",
    "def calculate_image_matrix(df, \n",
    "                           weight, \n",
    "                           square_pad, \n",
    "                           morphology_mode=False,\n",
    "                           radius=10, \n",
    "                           dirname=\"./image-results/\",\n",
    "                           filename=\"UNNAMED\",\n",
    "                           ext=\".png\", \n",
    "                           return_matrix=True):\n",
    "    \n",
    "    grid_dict = fit_all_points_to_grid(df,\n",
    "                                       weight=weight,\n",
    "                                       square_pad=square_pad\n",
    "                                      )\n",
    "    print(\"initial fit to grid\")\n",
    "    if not morphology_mode:\n",
    "        add_radius_to_grid_dict(grid_dict,radius=radius,square_pad=square_pad)\n",
    "    print(\"added radius\")\n",
    "    corners, grid_matrix = grid_dict_to_array(grid_dict, square_pad=square_pad)\n",
    "    print(\"converted to matrix\")\n",
    "    \n",
    "    # flip the matrix, because it was upside down... (latitude is inverted)\n",
    "    grid_matrix = cv2.flip(grid_matrix, 0)\n",
    "    \n",
    "    print(\"flipped\")\n",
    "#     if morphology_mode:\n",
    "#         # untested method to generate the point radii using gaussian blur\n",
    "#         #   or maybe I will use morphological dilation for greyscale\n",
    "#         #kernel = np.ones((5,5), dtype=np.uint8)\n",
    "#         kernel = np.array([\n",
    "#             [1,1,2,2,2,1,1],\n",
    "#             [1,2,2,3,2,2,1],\n",
    "#             [2,2,3,4,3,2,2],\n",
    "#             [2,3,4,5,4,3,2],\n",
    "#             [2,2,3,4,3,2,2],\n",
    "#             [1,2,2,3,2,2,1],\n",
    "#             [1,1,2,2,2,1,1]\n",
    "#         ], dtype=np.uint8)\n",
    "#         #kernel = np.ones((5,5),np.float32)/25\n",
    "#         grid_matrix = cv2.filter2D(grid_matrix,-1,kernel)\n",
    "#         #grid_matrix = cv2.dilate(grid_matrix, kernel2, iterations=1)\n",
    "#         print(\"kernel stuff done\")\n",
    "        \n",
    "    tlat,tlon,blat,blon = [round(c,7) for tup in corners for c in tup]\n",
    "    # pad the bottom-right coordinates along one grid square\n",
    "    blat -= square_pad\n",
    "    blon += square_pad\n",
    "    \n",
    "    # something is up the ratio i believe\n",
    "    print(tlat,tlon,blat,blon, sep=\"\\n\")\n",
    "    new_dirname = dirname+filename+\"/\"\n",
    "    try:\n",
    "        os.mkdir(new_dirname)\n",
    "    except FileExistsError:\n",
    "        pass\n",
    "\n",
    "    #ax.imshow(airport_matrix, cmap=\"inferno\")\n",
    "    cv2.imwrite(new_dirname+filename+ext, grid_matrix)\n",
    "    print(\"Saved image\")\n",
    "    with open(new_dirname+filename+\"_coords.txt\",\"w\") as outfile:\n",
    "        outfile.write(f\"TL,{tlat},{tlon}\\n\")\n",
    "        outfile.write(f\"BR,{blat},{blon}\\n\")\n",
    "    \n",
    "#     m = folium.Map([-37, 140], zoom_start=4)\n",
    "#     folium.raster_layers.ImageOverlay(\n",
    "#         image=grid_matrix,\n",
    "#         bounds=[[tlat, tlon], [blat, blon]],\n",
    "#         origin='upper', # due to flipping previously, it is not 'lower', but 'upper'\n",
    "#         colormap=lambda x: (1, 0, 0, x) # reds\n",
    "#         #mercator_project=True,\n",
    "#     ).add_to(m)\n",
    "\n",
    "#     m.save(dirname+filename+\"_map.html\")\n",
    "#     print(\"Saved map\")\n",
    "    if return_matrix:\n",
    "        coords = (tlat,tlon),(blat,blon)\n",
    "        return coords, grid_matrix\n",
    "\n",
    "    \n",
    "    "
   ]
  },
  {
   "cell_type": "code",
   "execution_count": 135,
   "metadata": {},
   "outputs": [],
   "source": [
    "SQUARE_PAD = 0.005"
   ]
  },
  {
   "cell_type": "code",
   "execution_count": 136,
   "metadata": {
    "scrolled": false
   },
   "outputs": [
    {
     "name": "stdout",
     "output_type": "stream",
     "text": [
      "initial fit to grid\n",
      "added radius\n",
      "converted to matrix\n",
      "flipped\n",
      "-27.48\n",
      "138.515\n",
      "-38.050000000000004\n",
      "153.34\n",
      "Saved image\n"
     ]
    }
   ],
   "source": [
    "westfields = pd.read_csv(\"./cleaned-data/westfield-locations.csv\")\n",
    "westfields_coords, westfields_matrix = calculate_image_matrix(westfields, \n",
    "                                           weight=25, \n",
    "                                           radius=5, \n",
    "                                           square_pad=SQUARE_PAD, \n",
    "                                           filename=\"westfields\",\n",
    "                                           return_matrix=True\n",
    "                                          )\n",
    "#plt.imshow(westfields_matrix)"
   ]
  },
  {
   "cell_type": "code",
   "execution_count": 137,
   "metadata": {},
   "outputs": [
    {
     "name": "stdout",
     "output_type": "stream",
     "text": [
      "initial fit to grid\n",
      "added radius\n",
      "converted to matrix\n",
      "flipped\n",
      "-32.025\n",
      "149.69\n",
      "-34.885000000000005\n",
      "151.785\n",
      "Saved image\n"
     ]
    }
   ],
   "source": [
    "\n",
    "stations = pd.read_csv(\"./cleaned-data/stations.csv\")\n",
    "stations_coords, stations_matrix = calculate_image_matrix(stations,\n",
    "                                         weight=25, \n",
    "                                         radius=5, \n",
    "                                         square_pad=SQUARE_PAD, \n",
    "                                         filename=\"stations\",\n",
    "                                         return_matrix=True\n",
    "                                        )"
   ]
  },
  {
   "cell_type": "code",
   "execution_count": 138,
   "metadata": {},
   "outputs": [
    {
     "name": "stdout",
     "output_type": "stream",
     "text": [
      "initial fit to grid\n",
      "added radius\n",
      "converted to matrix\n",
      "flipped\n",
      "-10.44\n",
      "113.425\n",
      "-42.995000000000005\n",
      "153.715\n",
      "Saved image\n"
     ]
    }
   ],
   "source": [
    "\n",
    "airports = pd.read_csv(\"./cleaned-data/airports.csv\")\n",
    "airports_coords, airports_matrix = calculate_image_matrix(airports,\n",
    "                                         weight=50, \n",
    "                                         radius=30, \n",
    "                                         square_pad=SQUARE_PAD, \n",
    "                                         filename=\"airports\",\n",
    "                                         return_matrix=True\n",
    "                                        )"
   ]
  },
  {
   "cell_type": "code",
   "execution_count": 139,
   "metadata": {},
   "outputs": [],
   "source": [
    "m=None"
   ]
  },
  {
   "cell_type": "markdown",
   "metadata": {},
   "source": [
    "m = folium.Map([-35, 150], tiles=\"CartoDB dark_matter\", zoom_start=7)\n",
    "folium.raster_layers.ImageOverlay(\n",
    "    image=stations_matrix,\n",
    "    bounds= stations_coords,\n",
    "    origin='upper', # due to flipping previously, it is not 'lower', but 'upper'\n",
    "    colormap=lambda x: (1, 0, 0, x), # reds\n",
    "    name=\"NSW Train Stations\",\n",
    "    mercator_project=False\n",
    ").add_to(m)\n",
    "folium.raster_layers.ImageOverlay(\n",
    "    image=westfields_matrix,\n",
    "    bounds=westfields_coords,\n",
    "    origin='upper', # due to flipping previously, it is not 'lower', but 'upper'\n",
    "    colormap=lambda x: (0, 1, 0, x), # greens\n",
    "    name=\"Westfields\",\n",
    "    mercator_project=False\n",
    ").add_to(m)\n",
    "folium.Rectangle(stations_coords).add_to(m)\n",
    "folium.Rectangle(westfields_coords,color=\"#FFFFFF\").add_to(m)\n",
    "\n",
    "for *position, name  in westfields[[\"lat\",\"lon\",\"name\"]].values:\n",
    "    folium.Marker(position, tooltip=name).add_to(m)\n",
    "folium.LayerControl().add_to(m)\n",
    "# airports doesnt work well with Folium\n",
    "# folium.raster_layers.ImageOverlay(\n",
    "#     image= airports_matrix,\n",
    "#     bounds= airports_coords,\n",
    "#     origin='upper', # due to flipping previously, it is not 'lower', but 'upper'\n",
    "#     colormap=lambda x: (0, 0, 1, x), # blues\n",
    "#     name=\"Airports\"\n",
    "# ).add_to(m)\n",
    "m.save(\"./image-results/combined_map.html\")"
   ]
  },
  {
   "cell_type": "code",
   "execution_count": null,
   "metadata": {},
   "outputs": [],
   "source": []
  },
  {
   "cell_type": "code",
   "execution_count": null,
   "metadata": {},
   "outputs": [],
   "source": []
  },
  {
   "cell_type": "code",
   "execution_count": null,
   "metadata": {
    "scrolled": false
   },
   "outputs": [],
   "source": [
    "\n",
    "\n",
    "\n"
   ]
  },
  {
   "cell_type": "code",
   "execution_count": null,
   "metadata": {},
   "outputs": [],
   "source": []
  },
  {
   "cell_type": "code",
   "execution_count": null,
   "metadata": {},
   "outputs": [],
   "source": []
  },
  {
   "cell_type": "code",
   "execution_count": null,
   "metadata": {},
   "outputs": [],
   "source": []
  },
  {
   "cell_type": "code",
   "execution_count": null,
   "metadata": {},
   "outputs": [],
   "source": []
  },
  {
   "cell_type": "code",
   "execution_count": null,
   "metadata": {},
   "outputs": [],
   "source": []
  },
  {
   "cell_type": "code",
   "execution_count": null,
   "metadata": {},
   "outputs": [],
   "source": []
  },
  {
   "cell_type": "code",
   "execution_count": null,
   "metadata": {},
   "outputs": [],
   "source": []
  }
 ],
 "metadata": {
  "kernelspec": {
   "display_name": "Python 3",
   "language": "python",
   "name": "python3"
  },
  "language_info": {
   "codemirror_mode": {
    "name": "ipython",
    "version": 3
   },
   "file_extension": ".py",
   "mimetype": "text/x-python",
   "name": "python",
   "nbconvert_exporter": "python",
   "pygments_lexer": "ipython3",
   "version": "3.6.5"
  }
 },
 "nbformat": 4,
 "nbformat_minor": 2
}
