{
 "cells": [
  {
   "cell_type": "code",
   "execution_count": 9,
   "metadata": {},
   "outputs": [],
   "source": [
    "from pyproj import Proj, transform\n",
    "import numpy as np\n",
    "import matplotlib.pyplot as plt\n",
    "import pandas as pd\n",
    "import os"
   ]
  },
  {
   "cell_type": "code",
   "execution_count": 10,
   "metadata": {},
   "outputs": [],
   "source": [
    "os.chdir(\"C:/Users/z5239548/Documents/GovHack 2019\")"
   ]
  },
  {
   "cell_type": "code",
   "execution_count": 11,
   "metadata": {},
   "outputs": [],
   "source": [
    "from pyproj import Proj, Transformer\n",
    "\n",
    "def transform_coord_list(xx,yy,proj_from=4326, proj_to=28355):\n",
    "    # lon, lat in\n",
    "    transformer = Transformer.from_crs(proj_from,proj_to)\n",
    "    # transpose\n",
    "    # transpose again\n",
    "    return transformer.transform(xx=xx, yy=yy)\n",
    "\n",
    "def scale(X, x_min, x_max):\n",
    "    nom = (X-X.min(axis=0))*(x_max-x_min)\n",
    "    denom = X.max(axis=0) - X.min(axis=0)\n",
    "    denom[denom==0] = 1\n",
    "    return x_min + nom/denom \n",
    "\n",
    "def generate_kernel(bbox, centre, radius, x_list, y_list, score = 10):\n",
    "    \n",
    "    radius = radius/(max(x_list) - min(x_list)) * len(x_list)\n",
    "    \n",
    "    cx = int((centre[0] - min(x_list))/(max(x_list)-min(x_list)) * len(x_list))\n",
    "    cy = int((centre[1] - min(y_list))/(max(y_list)-min(y_list)) * len(y_list))\n",
    "    \n",
    "    x,y = np.ogrid[:len(y_list),:len(x_list)]\n",
    "\n",
    "    # convert cartesian --> polar coordinates\n",
    "    r2 = (x-cx)*(x-cx) + (y-cy)*(y-cy)\n",
    "    \n",
    "    mask = r2 <= radius*radius\n",
    "    \n",
    "    r2[~mask] = 0\n",
    "    r2 = scale(r2, score, 0)\n",
    "    r2[~mask] = 0\n",
    "    \n",
    "    return r2"
   ]
  },
  {
   "cell_type": "code",
   "execution_count": 12,
   "metadata": {},
   "outputs": [],
   "source": [
    "#ULTIMO\n",
    "#bbox = [(-33.863476,151.195025),(-33.874875,151.218272)]\n",
    "#data = pd.read_csv(\"C:/Users/z5239548/Documents/GovHack 2019/nsw-train-stations.csv\")\n",
    "\n",
    "#VICTORIA\n",
    "bbox = [(-37.774745, 144.852014),(-37.901905, 145.067700)]\n",
    "data = pd.read_csv(\"C:/Users/z5239548/Documents/GovHack 2019/vic_stations.csv\")\n",
    "\n",
    "#LIVERPOOL\n",
    "#bbox = [(-33.915907, 150.911402),(-33.929873, 150.932766)]\n",
    "#data = pd.read_csv(\"C:/Users/z5239548/Documents/GovHack 2019/liverpool_data.csv\")"
   ]
  },
  {
   "cell_type": "code",
   "execution_count": 13,
   "metadata": {},
   "outputs": [],
   "source": [
    "#Inputs\n",
    "bbox_reversed = [(b,a) for a,b in bbox]\n",
    "res = 200\n",
    "radius = 200\n",
    "score = 10\n",
    "option = \"max\""
   ]
  },
  {
   "cell_type": "code",
   "execution_count": 14,
   "metadata": {},
   "outputs": [],
   "source": [
    "#Convert bbox to projected\n",
    "bbox_x = (bbox_reversed[0][0],bbox_reversed[1][0])\n",
    "bbox_y = (bbox_reversed[0][1],bbox_reversed[1][1])\n",
    "mga_bbox = transform_coord_list(bbox_y, bbox_x)\n",
    "\n",
    "#Format the canvas\n",
    "pixel_dis = int(abs(mga_bbox[0][1] - mga_bbox[0][0])/res)\n",
    "x_list = list(np.arange(mga_bbox[0][0], mga_bbox[0][1], pixel_dis))\n",
    "y_list = list(np.arange(mga_bbox[1][1], mga_bbox[1][0], pixel_dis))\n",
    "xv, yv = np.meshgrid(x_list, y_list)\n",
    "\n",
    "#reformat lat lon\n",
    "points = transform_coord_list(data.lat.values,data.lon.values)\n",
    "\n",
    "#format shape\n",
    "shape = (len(y_list), len(x_list))\n",
    "canvas = np.empty(shape)\n",
    "\n",
    "#calculate the raster\n",
    "for i in range(0, len(points[0])):\n",
    "    \n",
    "    centre = [points[0][i], points[1][i]]\n",
    "    \n",
    "    if (centre[0] > mga_bbox[0][0]) and (centre[0] < mga_bbox[0][1]) and (centre[1] < mga_bbox[1][0]) and (centre[1] > mga_bbox[1][1]):\n",
    "        \n",
    "        r2 = generate_kernel(mga_bbox, centre, radius, x_list, y_list, score = 10)\n",
    "        #r2 = np.nan_to_num(r2)\n",
    "        \n",
    "        if option == \"density\": \n",
    "            canvas = canvas + r2\n",
    "            \n",
    "        if option == \"max\":\n",
    "            canvas = np.maximum(canvas, r2)\n",
    "            \n",
    "if option == \"density\":\n",
    "    canvas = np.nan_to_num(canvas)\n",
    "    canvas = scale(canvas, 0, score)"
   ]
  },
  {
   "cell_type": "code",
   "execution_count": 15,
   "metadata": {},
   "outputs": [
    {
     "data": {
      "text/plain": [
       "(340761.8267202234, 5755222.2687956635)"
      ]
     },
     "execution_count": 15,
     "metadata": {},
     "output_type": "execute_result"
    }
   ],
   "source": [
    "points[0][5], points[1][5]"
   ]
  },
  {
   "cell_type": "code",
   "execution_count": 16,
   "metadata": {},
   "outputs": [
    {
     "data": {
      "text/plain": [
       "<matplotlib.collections.QuadMesh at 0x17e20592fd0>"
      ]
     },
     "execution_count": 16,
     "metadata": {},
     "output_type": "execute_result"
    },
    {
     "data": {
      "image/png": "[encoded data removed]",
      "text/plain": [
       "<Figure size 432x288 with 1 Axes>"
      ]
     },
     "metadata": {
      "needs_background": "light"
     },
     "output_type": "display_data"
    }
   ],
   "source": [
    "plt.pcolormesh(xv, yv, canvas)"
   ]
  },
  {
   "cell_type": "code",
   "execution_count": 17,
   "metadata": {},
   "outputs": [],
   "source": [
    "export = pd.DataFrame(columns = (\"lat\", \"lon\", \"value\"))\n",
    "\n",
    "c = 0\n",
    "\n",
    "for j in range(0, len(xv[0])):\n",
    "    \n",
    "    for i in range(0, len(xv)):\n",
    "\n",
    "        lat = xv[i,j]\n",
    "        lon = yv[i,j]\n",
    "        weight = canvas[i,j]\n",
    "        \n",
    "        export.loc[c] = [lat, lon, weight]\n",
    "        \n",
    "        c = c + 1"
   ]
  },
  {
   "cell_type": "code",
   "execution_count": 19,
   "metadata": {},
   "outputs": [],
   "source": [
    "export.to_csv(\"melbourne.csv\")"
   ]
  },
  {
   "cell_type": "code",
   "execution_count": null,
   "metadata": {},
   "outputs": [],
   "source": [
    "ultimo = canvas"
   ]
  },
  {
   "cell_type": "code",
   "execution_count": null,
   "metadata": {},
   "outputs": [],
   "source": []
  },
  {
   "cell_type": "code",
   "execution_count": null,
   "metadata": {},
   "outputs": [],
   "source": [
    "xv[5,20]"
   ]
  },
  {
   "cell_type": "code",
   "execution_count": null,
   "metadata": {},
   "outputs": [],
   "source": [
    "from scipy import interpolate\n",
    "xx, yy = np.meshgrid(x, y)\n",
    "z = np.sin(xx**2+yy**2)\n",
    "f = interpolate.interp2d(x, y, z, kind='cubic')"
   ]
  },
  {
   "cell_type": "code",
   "execution_count": null,
   "metadata": {},
   "outputs": [],
   "source": [
    "f"
   ]
  },
  {
   "cell_type": "code",
   "execution_count": null,
   "metadata": {},
   "outputs": [],
   "source": [
    "grid_x, grid_y = np.mgrid[x_list, y_list]"
   ]
  },
  {
   "cell_type": "code",
   "execution_count": null,
   "metadata": {},
   "outputs": [],
   "source": [
    "from scipy.interpolate import griddata\n",
    "\n",
    "points = [(334076.04023795936, 6250582.245653596), (334076.04023795936, 6251282.245653596),\n",
    "         (333576.04023795936, 6250482.245653596), (336076.04023795936, 6251282.245653596)]\n",
    "values = [700, 200, 100, 50]\n",
    "grid_z2 = griddata(points, values, (xv, yv), method='cubic')\n",
    "plt.imshow(grid_z2.T, extent=(min(x_list),max(x_list),min(y_list),max(y_list)), origin='lower')"
   ]
  },
  {
   "cell_type": "code",
   "execution_count": null,
   "metadata": {},
   "outputs": [],
   "source": [
    "x_list"
   ]
  },
  {
   "cell_type": "code",
   "execution_count": null,
   "metadata": {},
   "outputs": [],
   "source": [
    "shape= [len(x), len(y)]\n",
    "centre = [station[0][0],station[0][1]]\n",
    "radius = 400\n",
    "score = 10\n",
    "bbox = mga_bbox"
   ]
  },
  {
   "cell_type": "code",
   "execution_count": null,
   "metadata": {},
   "outputs": [],
   "source": []
  },
  {
   "cell_type": "code",
   "execution_count": null,
   "metadata": {},
   "outputs": [],
   "source": [
    "print(station[0][0],station[0][1])"
   ]
  },
  {
   "cell_type": "code",
   "execution_count": null,
   "metadata": {},
   "outputs": [],
   "source": [
    "plt.plot(station[0][0],station[0][1], \"or\")"
   ]
  },
  {
   "cell_type": "code",
   "execution_count": null,
   "metadata": {},
   "outputs": [],
   "source": []
  }
 ],
 "metadata": {
  "kernelspec": {
   "display_name": "Python 3",
   "language": "python",
   "name": "python3"
  },
  "language_info": {
   "codemirror_mode": {
    "name": "ipython",
    "version": 3
   },
   "file_extension": ".py",
   "mimetype": "text/x-python",
   "name": "python",
   "nbconvert_exporter": "python",
   "pygments_lexer": "ipython3",
   "version": "3.7.1"
  }
 },
 "nbformat": 4,
 "nbformat_minor": 2
}
